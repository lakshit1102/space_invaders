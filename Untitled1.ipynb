{
  "nbformat": 4,
  "nbformat_minor": 0,
  "metadata": {
    "colab": {
      "provenance": [],
      "authorship_tag": "ABX9TyOcPlXYKzS+kNWoK4xU1M28",
      "include_colab_link": true
    },
    "kernelspec": {
      "name": "python3",
      "display_name": "Python 3"
    },
    "language_info": {
      "name": "python"
    }
  },
  "cells": [
    {
      "cell_type": "markdown",
      "metadata": {
        "id": "view-in-github",
        "colab_type": "text"
      },
      "source": [
        "<a href=\"https://colab.research.google.com/github/lakshit1102/space_invaders/blob/main/Untitled1.ipynb\" target=\"_parent\"><img src=\"https://colab.research.google.com/assets/colab-badge.svg\" alt=\"Open In Colab\"/></a>"
      ]
    },
    {
      "cell_type": "code",
      "execution_count": 4,
      "metadata": {
        "colab": {
          "base_uri": "https://localhost:8080/"
        },
        "id": "gb5SwKuhAQSM",
        "outputId": "a36837c4-a58c-418e-fc04-dd492bd82aaf"
      },
      "outputs": [
        {
          "output_type": "stream",
          "name": "stdout",
          "text": [
            "enter first number20\n",
            "enter second number20\n",
            "enter third number20\n",
            "20.0\n"
          ]
        }
      ],
      "source": [
        "a=int(input(\"enter first number\"))\n",
        "b=int(input(\"enter second number\"))\n",
        "c=int(input(\"enter third number\"))\n",
        "print(int(a+b+c)/3)\n"
      ]
    },
    {
      "cell_type": "code",
      "source": [
        "a=int(input(\"enter your gross income\"))\n",
        "b=int(input(\"enter number of dependents\"))\n",
        "c= a-10000-(3000*b)\n",
        "print(\"taxable income is\",c)\n",
        "d=c*(20/100)\n",
        "print(\"tax is\",d)\n"
      ],
      "metadata": {
        "colab": {
          "base_uri": "https://localhost:8080/"
        },
        "id": "3oJTnsL1BcmD",
        "outputId": "bf63b692-fed4-43c1-c31f-eb29f2c07161"
      },
      "execution_count": 8,
      "outputs": [
        {
          "output_type": "stream",
          "name": "stdout",
          "text": [
            "enter your gross income2000000\n",
            "enter number of dependents4\n",
            "taxable income is 1978000\n",
            "tax is 395600.0\n"
          ]
        }
      ]
    },
    {
      "cell_type": "code",
      "source": [
        "a=int(input(\"enter number of seconds\"))\n",
        "if(a<60):\n",
        "  print(\"number of seconds\",a)\n",
        "else:\n",
        "  m=a//60\n",
        "  s=a%60\n",
        "  print(\"minutes\",m,\"seconds\",s)\n",
        "\n",
        " "
      ],
      "metadata": {
        "colab": {
          "base_uri": "https://localhost:8080/"
        },
        "id": "F7eD7b2zFoZ_",
        "outputId": "9c80a949-b39d-47dd-b8f2-c873658956e3"
      },
      "execution_count": 10,
      "outputs": [
        {
          "output_type": "stream",
          "name": "stdout",
          "text": [
            "enter number of seconds200\n",
            "minutes 3 seconds 20\n"
          ]
        }
      ]
    },
    {
      "cell_type": "code",
      "source": [
        "a=25\n",
        "b=25\n",
        "c=25.0\n",
        "print(str(a+b+c))"
      ],
      "metadata": {
        "colab": {
          "base_uri": "https://localhost:8080/"
        },
        "id": "p6-kg8LJHNcF",
        "outputId": "d322dc0f-8328-4982-b3fc-28daae024625"
      },
      "execution_count": 11,
      "outputs": [
        {
          "output_type": "stream",
          "name": "stdout",
          "text": [
            "75.0\n"
          ]
        }
      ]
    },
    {
      "cell_type": "code",
      "source": [
        "import math\n",
        "a=0\n",
        "while(a<=345):\n",
        " print(math.sin(math.radians(a)),math.cos(math.radians(a)))\n",
        " a=a+15\n",
        " "
      ],
      "metadata": {
        "colab": {
          "base_uri": "https://localhost:8080/"
        },
        "id": "aCW2ZrUOHp4_",
        "outputId": "def4cb0d-d301-49e0-c39a-c4c3bf5efc75"
      },
      "execution_count": 14,
      "outputs": [
        {
          "output_type": "stream",
          "name": "stdout",
          "text": [
            "0.0 1.0\n",
            "0.25881904510252074 0.9659258262890683\n",
            "0.49999999999999994 0.8660254037844387\n",
            "0.7071067811865475 0.7071067811865476\n",
            "0.8660254037844386 0.5000000000000001\n",
            "0.9659258262890683 0.25881904510252074\n",
            "1.0 6.123233995736766e-17\n",
            "0.9659258262890683 -0.25881904510252085\n",
            "0.8660254037844387 -0.4999999999999998\n",
            "0.7071067811865476 -0.7071067811865475\n",
            "0.49999999999999994 -0.8660254037844387\n",
            "0.258819045102521 -0.9659258262890682\n",
            "1.2246467991473532e-16 -1.0\n",
            "-0.2588190451025208 -0.9659258262890683\n",
            "-0.5000000000000001 -0.8660254037844386\n",
            "-0.7071067811865475 -0.7071067811865477\n",
            "-0.8660254037844384 -0.5000000000000004\n",
            "-0.9659258262890683 -0.25881904510252063\n",
            "-1.0 -1.8369701987210297e-16\n",
            "-0.9659258262890684 0.2588190451025203\n",
            "-0.8660254037844386 0.5000000000000001\n",
            "-0.7071067811865477 0.7071067811865474\n",
            "-0.5000000000000004 0.8660254037844384\n",
            "-0.2588190451025207 0.9659258262890683\n"
          ]
        }
      ]
    }
  ]
}